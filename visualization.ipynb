{
 "cells": [
  {
   "cell_type": "code",
   "execution_count": 6,
   "metadata": {
    "collapsed": false
   },
   "outputs": [
    {
     "name": "stdout",
     "output_type": "stream",
     "text": [
      "[   1.1       200.          0.30875   178.831871]\n[   1.1       250.          0.305063  143.104003]\n[   1.1       300.          0.307595  123.030646]\n[  1.10000000e+00   4.00000000e+02   3.11905000e-01   9.15961050e+01]\n[  1.10000000e+00   5.00000000e+02   3.08861000e-01   7.41055380e+01]\n[  1.10000000e+00   6.00000000e+02   3.09877000e-01   6.05368290e+01]\n[  1.10000000e+00   7.00000000e+02   3.07407000e-01   4.95294960e+01]\n[  1.10000000e+00   8.00000000e+02   3.11392000e-01   4.31605760e+01]\n[  1.10000000e+00   1.00000000e+03   3.12195000e-01   3.60624620e+01]\n[  1.10000000e+00   1.25000000e+03   3.08750000e-01   2.83842790e+01]\n[  1.10000000e+00   1.50000000e+03   3.06098000e-01   2.46288210e+01]\n[  1.10000000e+00   1.75000000e+03   3.09877000e-01   1.99512200e+01]\n[  1.10000000e+00   2.00000000e+03   3.06250000e-01   1.85365850e+01]\n"
     ]
    },
    {
     "data": {
      "text/html": [
       "<table>\n",
       "<tbody>\n",
       "<tr><td style=\"text-align: right;\">1.1</td><td style=\"text-align: right;\">200</td><td style=\"text-align: right;\">0.30875</td><td style=\"text-align: right;\">178.832</td></tr>\n",
       "<tr><td style=\"text-align: right;\">1.1</td><td style=\"text-align: right;\">200</td><td style=\"text-align: right;\">0.31   </td><td style=\"text-align: right;\">178.832</td></tr>\n",
       "<tr><td style=\"text-align: right;\">1.1</td><td style=\"text-align: right;\">200</td><td style=\"text-align: right;\">0.3125 </td><td style=\"text-align: right;\">178.832</td></tr>\n",
       "<tr><td style=\"text-align: right;\">1.1</td><td style=\"text-align: right;\">200</td><td style=\"text-align: right;\">0.31375</td><td style=\"text-align: right;\">178.832</td></tr>\n",
       "<tr><td style=\"text-align: right;\">1.1</td><td style=\"text-align: right;\">200</td><td style=\"text-align: right;\">0.31625</td><td style=\"text-align: right;\">178.832</td></tr>\n",
       "<tr><td style=\"text-align: right;\">1.1</td><td style=\"text-align: right;\">200</td><td style=\"text-align: right;\">0.31875</td><td style=\"text-align: right;\">178.238</td></tr>\n",
       "<tr><td style=\"text-align: right;\">1.1</td><td style=\"text-align: right;\">200</td><td style=\"text-align: right;\">0.32   </td><td style=\"text-align: right;\">178.238</td></tr>\n",
       "</tbody>\n",
       "</table>"
      ],
      "text/plain": [
       "<table>\n",
       "<tbody>\n",
       "<tr><td style=\"text-align: right;\">1.1</td><td style=\"text-align: right;\">200</td><td style=\"text-align: right;\">0.30875</td><td style=\"text-align: right;\">178.832</td></tr>\n",
       "<tr><td style=\"text-align: right;\">1.1</td><td style=\"text-align: right;\">200</td><td style=\"text-align: right;\">0.31   </td><td style=\"text-align: right;\">178.832</td></tr>\n",
       "<tr><td style=\"text-align: right;\">1.1</td><td style=\"text-align: right;\">200</td><td style=\"text-align: right;\">0.3125 </td><td style=\"text-align: right;\">178.832</td></tr>\n",
       "<tr><td style=\"text-align: right;\">1.1</td><td style=\"text-align: right;\">200</td><td style=\"text-align: right;\">0.31375</td><td style=\"text-align: right;\">178.832</td></tr>\n",
       "<tr><td style=\"text-align: right;\">1.1</td><td style=\"text-align: right;\">200</td><td style=\"text-align: right;\">0.31625</td><td style=\"text-align: right;\">178.832</td></tr>\n",
       "<tr><td style=\"text-align: right;\">1.1</td><td style=\"text-align: right;\">200</td><td style=\"text-align: right;\">0.31875</td><td style=\"text-align: right;\">178.238</td></tr>\n",
       "<tr><td style=\"text-align: right;\">1.1</td><td style=\"text-align: right;\">200</td><td style=\"text-align: right;\">0.32   </td><td style=\"text-align: right;\">178.238</td></tr>\n",
       "</tbody>\n",
       "</table>"
      ]
     },
     "execution_count": 0,
     "metadata": {},
     "output_type": "execute_result"
    }
   ],
   "source": [
    "from numpy import genfromtxt\n",
    "csv_data_path = \"/home/ubuntu/go/src/github.com/im7mortal/descart/data/data.csv\"\n",
    "data = genfromtxt(csv_data_path, delimiter=',')\n",
    "l = 0\n",
    "W = data[0][0]\n",
    "for row in data:\n",
    "    if row[0] != W:\n",
    "        break\n",
    "    if row[1] != l:\n",
    "        print(row)\n",
    "        l = row[1]\n",
    "\n",
    "from IPython.display import HTML, display\n",
    "import tabulate\n",
    "display(HTML(tabulate.tabulate(data[:7], tablefmt='html')))"
   ]
  },
  {
   "cell_type": "markdown",
   "metadata": {},
   "source": [
    "$$c = \\sqrt{a^2 + b^2}$$"
   ]
  },
  {
   "cell_type": "code",
   "execution_count": 7,
   "metadata": {},
   "outputs": [
    {
     "data": {
      "image/png": "[encoded data removed]",
      "text/plain": [
       "<matplotlib.figure.Figure at 0x7f01ae318b00>"
      ]
     },
     "metadata": {},
     "output_type": "display_data"
    }
   ],
   "source": [
    "l = 200.\n",
    "W = 1.1\n",
    "\n",
    "index = 0\n",
    "\n",
    "\n",
    "\n",
    "for row in data:\n",
    "    if row[0] != W or row[1] != l:\n",
    "        break\n",
    "    index += 1\n",
    "\n",
    "X = data[:index,2]\n",
    "Y = data[:index,3]\n",
    "import matplotlib.pyplot as plt\n",
    "plt.plot(X, Y, 'ro')\n",
    "# plt.title(\"lol\")\n",
    "plt.axis([X[0], X[index -1 ], Y[index- 1], Y[0]])\n",
    "plt.show()"
   ]
  },
  {
   "cell_type": "code",
   "execution_count": 51,
   "metadata": {},
   "outputs": [
    {
     "name": "stdout",
     "output_type": "stream",
     "text": [
      "[  173.5999939  -1756.60002441   465.49999084   214.39999847  -130.7       ]\n[-291.50832311 -115.22026598 -106.68115045  234.39065966  -94.48361578]\n[-64.41564471 -16.87804703   1.54460422 -51.81101932  14.02680734]\n[  1.22746839  -7.02093521 -22.480742   -11.16671534  -1.0910898 ]\n[  1.00360382   0.23683383  -1.87551626  -4.94871895 -11.34325168]\n[ 0.92842658  0.81848308  0.91929634  0.91061318  0.88886894]\n[ 0.94789907  0.87054151  0.91828324  0.89091391  0.8401415 ]\n[ 0.99940257  1.00128326  0.9466926   0.88242009  0.78004298]\n[ 0.9826571   0.96508728  0.93924549  0.88439049  0.78793629]\n[ 0.98530896  0.97082628  0.94274875  0.88835867  0.79090943]\n[ 0.98626571  0.97267707  0.94539658  0.89297675  0.79710186]\n[ 0.98773486  0.97550106  0.95063029  0.90281591  0.81239659]\n[ 0.98976229  0.97946241  0.9585357   0.91802992  0.838245  ]\n[ 0.99256565  0.98501066  0.96989219  0.94017834  0.87848442]\n[ 0.99532804  0.99054896  0.98138939  0.96298536  0.92324833]\n[ 0.99741951  0.9948188   0.98994437  0.98009423  0.95978111]\n[ 0.99942838  0.9988668   0.99766037  0.99506735  0.98957692]\n[ 0.99985653  0.9996903   0.99934592  0.99867054  0.99740336]\n[ 1.00002215  1.00003812  1.00006643  1.00011895  1.00022211]\n[ 1.00002215  1.00003812  1.00006643  1.00011895  1.00022211]\n"
     ]
    },
    {
     "data": {
      "text/plain": [
       "     fun: 7.826614203318482e-08\n     jac: array([ 0.0025196 ,  0.00277462,  0.00374687,  0.00377827, -0.00315681])\n message: 'Optimization terminated successfully.'\n    nfev: 154\n     nit: 20\n    njev: 20\n  status: 0\n success: True\n       x: array([ 1.00002215,  1.00003812,  1.00006643,  1.00011895,  1.00022211])"
      ]
     },
     "execution_count": 51,
     "metadata": {},
     "output_type": "execute_result"
    }
   ],
   "source": [
    "from scipy.optimize import minimize, rosen, rosen_der\n",
    "import numpy as np\n",
    "\n",
    "def constr(x):\n",
    "    print(x)\n",
    "\n",
    "x0 = np.array([1.2,1.8, 0.9,0.8,1.3])\n",
    "res = minimize(rosen, x0, method='SLSQP', callback=constr)\n",
    "res\n"
   ]
  },
  {
   "cell_type": "code",
   "execution_count": null,
   "metadata": {},
   "outputs": [],
   "source": [
    "\n",
    "from scipy import stats\n",
    "slope, intercept, r_value, p_value, std_err = stats.linregress(x,y)\n"
   ]
  }
 ],
 "metadata": {
  "kernelspec": {
   "display_name": "Python 2",
   "language": "python",
   "name": "python2"
  },
  "language_info": {
   "codemirror_mode": {
    "name": "ipython",
    "version": 2
   },
   "file_extension": ".py",
   "mimetype": "text/x-python",
   "name": "python",
   "nbconvert_exporter": "python",
   "pygments_lexer": "ipython2",
   "version": "2.7.6"
  }
 },
 "nbformat": 4,
 "nbformat_minor": 0
}
